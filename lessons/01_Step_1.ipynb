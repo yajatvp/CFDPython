{
  "nbformat": 4,
  "nbformat_minor": 0,
  "metadata": {
    "kernelspec": {
      "display_name": "Python 3",
      "language": "python",
      "name": "python3"
    },
    "language_info": {
      "codemirror_mode": {
        "name": "ipython",
        "version": 3
      },
      "file_extension": ".py",
      "mimetype": "text/x-python",
      "name": "python",
      "nbconvert_exporter": "python",
      "pygments_lexer": "ipython3",
      "version": "3.5.2"
    },
    "colab": {
      "name": "01_Step_1.ipynb",
      "provenance": []
    }
  },
  "cells": [
    {
      "cell_type": "markdown",
      "metadata": {
        "id": "09mqhxzg63x1"
      },
      "source": [
        "Text provided under a Creative Commons Attribution license, CC-BY.  All code is made available under the FSF-approved BSD-3 license.  (c) Lorena A. Barba, Gilbert F. Forsyth 2017. Thanks to NSF for support via CAREER award #1149784."
      ]
    },
    {
      "cell_type": "markdown",
      "metadata": {
        "id": "9ZhHFzx563x7"
      },
      "source": [
        "[@LorenaABarba](https://twitter.com/LorenaABarba)"
      ]
    },
    {
      "cell_type": "markdown",
      "metadata": {
        "id": "lE3Y1vqR63x8"
      },
      "source": [
        "12 steps to Navier–Stokes\n",
        "======\n",
        "***"
      ]
    },
    {
      "cell_type": "markdown",
      "metadata": {
        "id": "bS9sNR2_63x8"
      },
      "source": [
        "Hello! Welcome to the **12 steps to Navier–Stokes**. This is a practical module that is used in the beginning of an interactive Computational Fluid Dynamics (CFD) course taught by [Prof. Lorena Barba](http://lorenabarba.com) since Spring 2009 at Boston University. The course assumes only basic programming knowledge (in any language) and of course some foundation in partial differential equations and fluid mechanics. The practical module was inspired by the ideas of Dr. Rio Yokota, who was a post-doc in Barba's lab, and has been refined by Prof. Barba and her students over several semesters teaching the course. The course is taught entirely using Python and students who don't know Python just learn as we work through the module.\n",
        "\n",
        "This [Jupyter notebook](https://jupyter-notebook.readthedocs.io/en/stable/) will lead you through the first step of programming your own Navier–Stokes solver in Python from the ground up.  We're going to dive right in.  Don't worry if you don't understand everything that's happening at first, we'll cover it in detail as we move forward and you can support your learning with the videos of [Prof. Barba's lectures on YouTube](http://www.youtube.com/playlist?list=PL30F4C5ABCE62CB61).\n",
        "\n",
        "For best results, after you follow this notebook, prepare your own code for Step 1, either as a Python script or in a clean Jupyter notebook.\n",
        "\n",
        "To execute this Notebook, we assume you have invoked the notebook server using: `jupyter notebook`."
      ]
    },
    {
      "cell_type": "markdown",
      "metadata": {
        "id": "6CAvLhCj63x8"
      },
      "source": [
        "Step 1: 1-D Linear Convection\n",
        "-----\n",
        "***"
      ]
    },
    {
      "cell_type": "markdown",
      "metadata": {
        "id": "Ue6ovS4G63x9"
      },
      "source": [
        "The 1-D Linear Convection equation is the simplest, most basic model that can be used to learn something about CFD. It is surprising that this little equation can teach us so much! Here it is:\n",
        "\n",
        "$$\\frac{\\partial u}{\\partial t} + c \\frac{\\partial u}{\\partial x} = 0$$\n",
        "\n",
        "With given initial conditions (understood as a *wave*), the equation represents the propagation of that initial *wave* with speed $c$, without change of shape. Let the initial condition be $u(x,0)=u_0(x)$. Then the exact solution of the equation is $u(x,t)=u_0(x-ct)$.\n",
        "\n",
        "We discretize this equation in both space and time, using the Forward Difference scheme for the time derivative and the Backward Difference scheme for the space derivative. Consider discretizing the spatial coordinate $x$ into points that we index from $i=0$ to $N$, and stepping in discrete time intervals of size $\\Delta t$.\n",
        "\n",
        "From the definition of a derivative (and simply removing the limit), we know that:\n",
        "\n",
        "$$\\frac{\\partial u}{\\partial x}\\approx \\frac{u(x+\\Delta x)-u(x)}{\\Delta x}$$\n",
        "\n",
        "Our discrete equation, then, is:\n",
        "\n",
        "$$\\frac{u_i^{n+1}-u_i^n}{\\Delta t} + c \\frac{u_i^n - u_{i-1}^n}{\\Delta x} = 0 $$\n",
        "\n",
        "Where $n$ and $n+1$ are two consecutive steps in time, while $i-1$ and $i$ are two neighboring points of the discretized $x$ coordinate. If there are given initial conditions, then the only unknown in this discretization is $u_i^{n+1}$.  We can solve for our unknown to get an equation that allows us to advance in time, as follows:\n",
        "\n",
        "$$u_i^{n+1} = u_i^n - c \\frac{\\Delta t}{\\Delta x}(u_i^n-u_{i-1}^n)$$\n",
        "\n",
        "Now let's try implementing this in Python.  \n",
        "\n",
        "We'll start by importing a few libraries to help us out.\n",
        "\n",
        "* `numpy` is a library that provides a bunch of useful matrix operations akin to MATLAB\n",
        "* `matplotlib` is a 2D plotting library that we will use to plot our results\n",
        "* `time` and `sys` provide basic timing functions that we'll use to slow down animations for viewing"
      ]
    },
    {
      "cell_type": "code",
      "metadata": {
        "id": "v4vNY4or63x9"
      },
      "source": [
        "# Remember: comments in python are denoted by the pound sign\n",
        "import numpy                       #here we load numpy\n",
        "from matplotlib import pyplot      #here we load matplotlib\n",
        "import time, sys                   #and load some utilities\n"
      ],
      "execution_count": 2,
      "outputs": []
    },
    {
      "cell_type": "code",
      "metadata": {
        "id": "bxf93tzx63x-"
      },
      "source": [
        "#this makes matplotlib plots appear in the notebook (instead of a separate window)\n",
        "%matplotlib inline                  "
      ],
      "execution_count": 3,
      "outputs": []
    },
    {
      "cell_type": "markdown",
      "metadata": {
        "id": "JX7KvIq563x-"
      },
      "source": [
        "Now let's define a few variables; we want to define an evenly spaced grid of points within a spatial domain that is 2 units of length wide, i.e., $x_i\\in(0,2)$.  We'll define a variable `nx`, which will be the number of grid points we want and `dx` will be the distance between any pair of adjacent grid points.  "
      ]
    },
    {
      "cell_type": "code",
      "metadata": {
        "id": "WmSDezQ-63x-"
      },
      "source": [
        "nx = 61  # try changing this number from 41 to 81 and Run All ... what happens?\n",
        "dx = 2 / (nx-1)\n",
        "nt = 25    #nt is the number of timesteps we want to calculate\n",
        "dt = .025  #dt is the amount of time each timestep covers (delta t)\n",
        "c = 1      #assume wavespeed of c = 1"
      ],
      "execution_count": 14,
      "outputs": []
    },
    {
      "cell_type": "markdown",
      "metadata": {
        "id": "JW4wRuq963x_"
      },
      "source": [
        "We also need to set up our initial conditions. The initial velocity $u_0$ is given as \n",
        "$u = 2$ in the interval $0.5 \\leq x \\leq 1$  and $u = 1$ everywhere else in $(0,2)$ (i.e., a hat function).\n",
        "\n",
        "Here, we use the function `ones()` defining a `numpy` array which is `nx` elements long with every value equal to 1."
      ]
    },
    {
      "cell_type": "code",
      "metadata": {
        "colab": {
          "base_uri": "https://localhost:8080/"
        },
        "id": "mQfMfc4D63x_",
        "outputId": "b5a136df-49f6-422f-d489-d45ff797aeb4"
      },
      "source": [
        "u = numpy.ones(nx)      #numpy function ones()\n",
        "u[int(.5 / dx):int(1 / dx + 1)] = 2  #setting u = 2 between 0.5 and 1 as per our I.C.s\n",
        "print(u)"
      ],
      "execution_count": 15,
      "outputs": [
        {
          "output_type": "stream",
          "text": [
            "[1. 1. 1. 1. 1. 1. 1. 1. 1. 1. 1. 1. 1. 1. 1. 2. 2. 2. 2. 2. 2. 2. 2. 2.\n",
            " 2. 2. 2. 2. 2. 2. 2. 1. 1. 1. 1. 1. 1. 1. 1. 1. 1. 1. 1. 1. 1. 1. 1. 1.\n",
            " 1. 1. 1. 1. 1. 1. 1. 1. 1. 1. 1. 1. 1.]\n"
          ],
          "name": "stdout"
        }
      ]
    },
    {
      "cell_type": "markdown",
      "metadata": {
        "id": "kJSmMZ4w63yA"
      },
      "source": [
        "Now let's take a look at those initial conditions using a Matplotlib plot.  We've imported the `matplotlib` plotting library `pyplot` and the plotting function is called `plot`, so we'll call `pyplot.plot`. To learn about the myriad possibilities of Matplotlib, explore the [Gallery](http://matplotlib.org/gallery.html) of example plots.\n",
        "\n",
        "Here, we use the syntax for a simple 2D plot: `plot(x,y)`, where the `x` values are evenly distributed grid points:"
      ]
    },
    {
      "cell_type": "code",
      "metadata": {
        "colab": {
          "base_uri": "https://localhost:8080/",
          "height": 265
        },
        "id": "emw_rc7J63yA",
        "outputId": "62892302-67bf-4044-d314-60229324e5c0"
      },
      "source": [
        "pyplot.plot(numpy.linspace(0, 2, nx), u);"
      ],
      "execution_count": 16,
      "outputs": [
        {
          "output_type": "display_data",
          "data": {
            "image/png": "[encoded data removed]",
            "text/plain": [
              "<Figure size 432x288 with 1 Axes>"
            ]
          },
          "metadata": {
            "tags": [],
            "needs_background": "light"
          }
        }
      ]
    },
    {
      "cell_type": "markdown",
      "metadata": {
        "id": "t2ipbt5n63yB"
      },
      "source": [
        "Why doesn't the hat function have perfectly straight sides? Think for a bit."
      ]
    },
    {
      "cell_type": "markdown",
      "metadata": {
        "id": "yub4wOs_63yB"
      },
      "source": [
        "Now it's time to implement the discretization of the convection equation using a finite-difference scheme.  \n",
        "\n",
        "For every element of our array `u`, we need to perform the operation $u_i^{n+1} = u_i^n - c \\frac{\\Delta t}{\\Delta x}(u_i^n-u_{i-1}^n)$\n",
        "\n",
        "We'll store the result in a new (temporary) array `un`, which will be the solution $u$ for the next time-step.  We will repeat this operation for as many time-steps as we specify and then we can see how far the wave has convected.  \n",
        "\n",
        "We first initialize our placeholder array `un` to hold the values we calculate for the $n+1$ timestep, using once again the NumPy function `ones()`.\n",
        "\n",
        "Then, we may think we have two iterative operations: one in space and one in time (we'll learn differently later), so we'll start by nesting one loop inside the other. Note the use of the nifty `range()` function. When we write: `for i in range(1,nx)` we will iterate through the `u` array, but we'll be skipping the first element (the zero-th element).  *Why?*"
      ]
    },
    {
      "cell_type": "code",
      "metadata": {
        "id": "MlYsxJKN63yB"
      },
      "source": [
        "un = numpy.ones(nx) #initialize a temporary array\n",
        "\n",
        "for n in range(nt):  #loop for values of n from 0 to nt, so it will run nt times\n",
        "    un = u.copy() ##copy the existing values of u into un\n",
        "    for i in range(1, nx): ## you can try commenting this line and...\n",
        "    #for i in range(nx): ## ... uncommenting this line and see what happens!\n",
        "        u[i] = un[i] - c * dt / dx * (un[i] - un[i-1])\n",
        "        \n",
        "        "
      ],
      "execution_count": 17,
      "outputs": []
    },
    {
      "cell_type": "markdown",
      "metadata": {
        "id": "6TAFGM1c63yC"
      },
      "source": [
        "**Note**—We will learn later that the code as written above is quite inefficient, and there are better ways to write this, Python-style. But let's carry on.\n",
        "\n",
        "Now let's try plotting our `u` array after advancing in time."
      ]
    },
    {
      "cell_type": "code",
      "metadata": {
        "colab": {
          "base_uri": "https://localhost:8080/",
          "height": 265
        },
        "id": "nGI90eb863yC",
        "outputId": "0b77115c-3e49-4c7c-b9dd-ce3d74286455"
      },
      "source": [
        "pyplot.plot(numpy.linspace(0, 2, nx), u);"
      ],
      "execution_count": 19,
      "outputs": [
        {
          "output_type": "display_data",
          "data": {
            "image/png": "[encoded data removed]",
            "text/plain": [
              "<Figure size 432x288 with 1 Axes>"
            ]
          },
          "metadata": {
            "tags": [],
            "needs_background": "light"
          }
        }
      ]
    },
    {
      "cell_type": "markdown",
      "metadata": {
        "id": "5v_a-jBG63yC"
      },
      "source": [
        "OK! So our hat function has definitely moved to the right, but it's no longer a hat.  **What's going on?**"
      ]
    },
    {
      "cell_type": "markdown",
      "metadata": {
        "id": "vpvobn7x63yC"
      },
      "source": [
        "Learn More\n",
        "-----\n",
        "***"
      ]
    },
    {
      "cell_type": "markdown",
      "metadata": {
        "id": "ZMbT9d9T63yC"
      },
      "source": [
        "For a more thorough explanation of the finite-difference method, including topics like the truncation error, order of convergence and other details, watch **Video Lessons 2 and 3** by Prof. Barba on YouTube."
      ]
    },
    {
      "cell_type": "code",
      "metadata": {
        "id": "FuM0lOTP63yD",
        "outputId": "3918106d-c226-4d6f-d8ef-04b3cae13498"
      },
      "source": [
        "from IPython.display import YouTubeVideo\n",
        "YouTubeVideo('iz22_37mMkk')"
      ],
      "execution_count": null,
      "outputs": [
        {
          "output_type": "execute_result",
          "data": {
            "image/jpeg": "[encoded data removed]",
            "text/html": [
              "\n",
              "        <iframe\n",
              "            width=\"400\"\n",
              "            height=\"300\"\n",
              "            src=\"https://www.youtube.com/embed/iz22_37mMkk\"\n",
              "            frameborder=\"0\"\n",
              "            allowfullscreen\n",
              "        ></iframe>\n",
              "        "
            ],
            "text/plain": [
              "<IPython.lib.display.YouTubeVideo at 0x7ff9ad15d438>"
            ]
          },
          "metadata": {
            "tags": []
          },
          "execution_count": 8
        }
      ]
    },
    {
      "cell_type": "code",
      "metadata": {
        "id": "F1sUWDPV63yD",
        "outputId": "ef5214ce-7400-402c-cc57-dc7a6597945e"
      },
      "source": [
        "YouTubeVideo('xq9YTcv-fQg')"
      ],
      "execution_count": null,
      "outputs": [
        {
          "output_type": "execute_result",
          "data": {
            "image/jpeg": "[encoded data removed]",
            "text/html": [
              "\n",
              "        <iframe\n",
              "            width=\"400\"\n",
              "            height=\"300\"\n",
              "            src=\"https://www.youtube.com/embed/xq9YTcv-fQg\"\n",
              "            frameborder=\"0\"\n",
              "            allowfullscreen\n",
              "        ></iframe>\n",
              "        "
            ],
            "text/plain": [
              "<IPython.lib.display.YouTubeVideo at 0x7ff9ad662cc0>"
            ]
          },
          "metadata": {
            "tags": []
          },
          "execution_count": 9
        }
      ]
    },
    {
      "cell_type": "markdown",
      "metadata": {
        "id": "UT4CWHg863yD"
      },
      "source": [
        "For a careful walk-through of the discretization of the linear convection equation with finite differences (and also the following steps, up to Step 4), watch **Video Lesson 4** by Prof. Barba on YouTube."
      ]
    },
    {
      "cell_type": "code",
      "metadata": {
        "id": "5QrAYF9r63yD",
        "outputId": "96e9d360-c90e-444a-97a0-11deb2376de5"
      },
      "source": [
        "YouTubeVideo('y2WaK7_iMRI')"
      ],
      "execution_count": null,
      "outputs": [
        {
          "output_type": "execute_result",
          "data": {
            "image/jpeg": "[encoded data removed]",
            "text/html": [
              "\n",
              "        <iframe\n",
              "            width=\"400\"\n",
              "            height=\"300\"\n",
              "            src=\"https://www.youtube.com/embed/y2WaK7_iMRI\"\n",
              "            frameborder=\"0\"\n",
              "            allowfullscreen\n",
              "        ></iframe>\n",
              "        "
            ],
            "text/plain": [
              "<IPython.lib.display.YouTubeVideo at 0x7ff9ad152b38>"
            ]
          },
          "metadata": {
            "tags": []
          },
          "execution_count": 10
        }
      ]
    },
    {
      "cell_type": "markdown",
      "metadata": {
        "id": "AW9XEmT_63yE"
      },
      "source": [
        "## Last but not least"
      ]
    },
    {
      "cell_type": "markdown",
      "metadata": {
        "id": "s1R08set63yE"
      },
      "source": [
        "**Remember** to rewrite Step 1 as a fresh Python script or in *your own* Jupyter notebook and then experiment by changing the discretization parameters. Once you have done this, you will be ready for [Step 2](./02_Step_2.ipynb).\n",
        "\n",
        "\n",
        "***"
      ]
    },
    {
      "cell_type": "code",
      "metadata": {
        "id": "yJMxVH4T63yE",
        "outputId": "721b3cb4-44c0-4754-b0f8-c1c9be0ba441"
      },
      "source": [
        "from IPython.core.display import HTML\n",
        "def css_styling():\n",
        "    styles = open(\"../styles/custom.css\", \"r\").read()\n",
        "    return HTML(styles)\n",
        "css_styling()"
      ],
      "execution_count": null,
      "outputs": [
        {
          "output_type": "execute_result",
          "data": {
            "text/html": [
              "<link href='http://fonts.googleapis.com/css?family=Fenix' rel='stylesheet' type='text/css'>\n",
              "<link href='http://fonts.googleapis.com/css?family=Alegreya+Sans:100,300,400,500,700,800,900,100italic,300italic,400italic,500italic,700italic,800italic,900italic' rel='stylesheet' type='text/css'>\n",
              "<link href='http://fonts.googleapis.com/css?family=Source+Code+Pro:300,400' rel='stylesheet' type='text/css'>\n",
              "<style>\n",
              "    @font-face {\n",
              "        font-family: \"Computer Modern\";\n",
              "        src: url('http://mirrors.ctan.org/fonts/cm-unicode/fonts/otf/cmunss.otf');\n",
              "    }\n",
              "    div.cell{\n",
              "        width:800px;\n",
              "        margin-left:16% !important;\n",
              "        margin-right:auto;\n",
              "    }\n",
              "    h1 {\n",
              "        font-family: 'Alegreya Sans', sans-serif;\n",
              "    }\n",
              "    h2 {\n",
              "        font-family: 'Fenix', serif;\n",
              "    }\n",
              "    h3{\n",
              "\t\tfont-family: 'Fenix', serif;\n",
              "        margin-top:12px;\n",
              "        margin-bottom: 3px;\n",
              "       }\n",
              "\th4{\n",
              "\t\tfont-family: 'Fenix', serif;\n",
              "       }\n",
              "    h5 {\n",
              "        font-family: 'Alegreya Sans', sans-serif;\n",
              "    }\t   \n",
              "    div.text_cell_render{\n",
              "        font-family: 'Alegreya Sans',Computer Modern, \"Helvetica Neue\", Arial, Helvetica, Geneva, sans-serif;\n",
              "        line-height: 135%;\n",
              "        font-size: 120%;\n",
              "        width:600px;\n",
              "        margin-left:auto;\n",
              "        margin-right:auto;\n",
              "    }\n",
              "    .CodeMirror{\n",
              "            font-family: \"Source Code Pro\";\n",
              "\t\t\tfont-size: 90%;\n",
              "    }\n",
              "/*    .prompt{\n",
              "        display: None;\n",
              "    }*/\n",
              "    .text_cell_render h1 {\n",
              "        font-weight: 200;\n",
              "        font-size: 50pt;\n",
              "\t\tline-height: 100%;\n",
              "        color:#CD2305;\n",
              "        margin-bottom: 0.5em;\n",
              "        margin-top: 0.5em;\n",
              "        display: block;\n",
              "    }\t\n",
              "    .text_cell_render h5 {\n",
              "        font-weight: 300;\n",
              "        font-size: 16pt;\n",
              "        color: #CD2305;\n",
              "        font-style: italic;\n",
              "        margin-bottom: .5em;\n",
              "        margin-top: 0.5em;\n",
              "        display: block;\n",
              "    }\n",
              "    \n",
              "    .warning{\n",
              "        color: rgb( 240, 20, 20 )\n",
              "        }  \n",
              "</style>\n",
              "<script>\n",
              "    MathJax.Hub.Config({\n",
              "                        TeX: {\n",
              "                           extensions: [\"AMSmath.js\"]\n",
              "                           },\n",
              "                tex2jax: {\n",
              "                    inlineMath: [ ['$','$'], [\"\\\\(\",\"\\\\)\"] ],\n",
              "                    displayMath: [ ['$$','$$'], [\"\\\\[\",\"\\\\]\"] ]\n",
              "                },\n",
              "                displayAlign: 'center', // Change this to 'center' to center equations.\n",
              "                \"HTML-CSS\": {\n",
              "                    styles: {'.MathJax_Display': {\"margin\": 4}}\n",
              "                }\n",
              "        });\n",
              "</script>\n"
            ],
            "text/plain": [
              "<IPython.core.display.HTML object>"
            ]
          },
          "metadata": {
            "tags": []
          },
          "execution_count": 11
        }
      ]
    },
    {
      "cell_type": "markdown",
      "metadata": {
        "id": "Rnq6aRsh63yE"
      },
      "source": [
        "> (The cell above executes the style for this notebook. We modified a style we found on the GitHub of [CamDavidsonPilon](https://github.com/CamDavidsonPilon), [@Cmrn_DP](https://twitter.com/cmrn_dp).)"
      ]
    }
  ]
}