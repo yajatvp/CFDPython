{
  "nbformat": 4,
  "nbformat_minor": 0,
  "metadata": {
    "kernelspec": {
      "display_name": "Python 3",
      "language": "python",
      "name": "python3"
    },
    "language_info": {
      "codemirror_mode": {
        "name": "ipython",
        "version": 3
      },
      "file_extension": ".py",
      "mimetype": "text/x-python",
      "name": "python",
      "nbconvert_exporter": "python",
      "pygments_lexer": "ipython3",
      "version": "3.4.3"
    },
    "colab": {
      "name": "00_Quick_Python_Intro.ipynb",
      "provenance": []
    }
  },
  "cells": [
    {
      "cell_type": "markdown",
      "metadata": {
        "id": "5H2cNt68qs4x"
      },
      "source": [
        "# Python Crash Course"
      ]
    },
    {
      "cell_type": "markdown",
      "metadata": {
        "id": "oCCCIbvLqs42"
      },
      "source": [
        "Hello! This is a quick intro to programming in Python to help you hit the ground running with the _12 Steps to Navier–Stokes_.  \n",
        "\n",
        "There are two ways to enjoy these lessons with Python:\n",
        "\n",
        "1. You can download and install a Python distribution on your computer. One option is the free [Anaconda Scientific Python](https://store.continuum.io/cshop/anaconda/) distribution. Another is [Canopy](https://www.enthought.com/products/canopy/academic/), which is free for academic use.  Our recommendation is Anaconda.\n",
        "\n",
        "2. You can run Python in the cloud using [Wakari](https://wakari.io/) web-based data analysis, for which you need to create a free account. (No software installation required!)\n",
        "\n",
        "In either case, you will probably want to download a copy of this notebook, or the whole AeroPython collection. We recommend that you then follow along each lesson, experimenting with the code in the notebooks, or typing the code into a separate Python interactive session.\n",
        "\n",
        "If you decided to work on your local Python installation, you will have to navigate in the terminal to the folder that contains the .ipynb files. Then, to launch the notebook server, just type:\n",
        "ipython notebook\n",
        "\n",
        "You will get a new browser window or tab with a list of the notebooks available in that folder. Click on one and start working!"
      ]
    },
    {
      "cell_type": "markdown",
      "metadata": {
        "id": "nNvaGi1Jqs43"
      },
      "source": [
        "## Libraries"
      ]
    },
    {
      "cell_type": "markdown",
      "metadata": {
        "id": "BoAU_HOfqs43"
      },
      "source": [
        "Python is a high-level open-source language.  But the _Python world_ is inhabited by many packages or libraries that provide useful things like array operations, plotting functions, and much more. We can import libraries of functions to expand the capabilities of Python in our programs.  \n",
        "\n",
        "OK! We'll start by importing a few libraries to help us out. First: our favorite library is **NumPy**, providing a bunch of useful array operations (similar to MATLAB). We will use it a lot! The second library we need is **Matplotlib**, a 2D plotting library which we will use to plot our results.\n",
        "The following code will be at the top of most of your programs, so execute this cell first:"
      ]
    },
    {
      "cell_type": "code",
      "metadata": {
        "id": "d6jXcEysqs43"
      },
      "source": [
        "# <-- comments in python are denoted by the pound sign, like this one\n",
        "\n",
        "import numpy                 # we import the array library\n",
        "from matplotlib import pyplot    # import plotting library"
      ],
      "execution_count": 2,
      "outputs": []
    },
    {
      "cell_type": "markdown",
      "metadata": {
        "id": "WDkScI0Lqs44"
      },
      "source": [
        "We are importing one library named `numpy` and we are importing a module called `pyplot` of a big library called `matplotlib`.\n",
        "To use a function belonging to one of these libraries, we have to tell Python where to look for it. For that, each function name is written following the library name, with a dot in between.\n",
        "So if we want to use the NumPy function [linspace()](http://docs.scipy.org/doc/numpy/reference/generated/numpy.linspace.html), which creates an array with equally spaced numbers between a start and end, we call it by writing:"
      ]
    },
    {
      "cell_type": "code",
      "metadata": {
        "id": "kQOdJTzIqs44",
        "outputId": "437c5ee0-c20c-4550-8de6-097ad1f8780f",
        "colab": {
          "base_uri": "https://localhost:8080/"
        }
      },
      "source": [
        "myarray = numpy.linspace(0, 5, 10)\n",
        "myarray"
      ],
      "execution_count": 3,
      "outputs": [
        {
          "output_type": "execute_result",
          "data": {
            "text/plain": [
              "array([0.        , 0.55555556, 1.11111111, 1.66666667, 2.22222222,\n",
              "       2.77777778, 3.33333333, 3.88888889, 4.44444444, 5.        ])"
            ]
          },
          "metadata": {
            "tags": []
          },
          "execution_count": 3
        }
      ]
    },
    {
      "cell_type": "markdown",
      "metadata": {
        "id": "9bHOdgvDqs45"
      },
      "source": [
        "If we don't preface the `linspace()` function with `numpy`, Python will throw an error."
      ]
    },
    {
      "cell_type": "code",
      "metadata": {
        "id": "j10ZFtL8qs45",
        "outputId": "c5fda108-9ac4-442b-99b4-22ebc0915793",
        "colab": {
          "base_uri": "https://localhost:8080/",
          "height": 167
        }
      },
      "source": [
        "myarray = linspace(0, 5, 10)"
      ],
      "execution_count": 4,
      "outputs": [
        {
          "output_type": "error",
          "ename": "NameError",
          "evalue": "ignored",
          "traceback": [
            "\u001b[0;31m---------------------------------------------------------------------------\u001b[0m",
            "\u001b[0;31mNameError\u001b[0m                                 Traceback (most recent call last)",
            "\u001b[0;32m<ipython-input-4-14f926e9cd07>\u001b[0m in \u001b[0;36m<module>\u001b[0;34m()\u001b[0m\n\u001b[0;32m----> 1\u001b[0;31m \u001b[0mmyarray\u001b[0m \u001b[0;34m=\u001b[0m \u001b[0mlinspace\u001b[0m\u001b[0;34m(\u001b[0m\u001b[0;36m0\u001b[0m\u001b[0;34m,\u001b[0m \u001b[0;36m5\u001b[0m\u001b[0;34m,\u001b[0m \u001b[0;36m10\u001b[0m\u001b[0;34m)\u001b[0m\u001b[0;34m\u001b[0m\u001b[0;34m\u001b[0m\u001b[0m\n\u001b[0m",
            "\u001b[0;31mNameError\u001b[0m: name 'linspace' is not defined"
          ]
        }
      ]
    },
    {
      "cell_type": "markdown",
      "metadata": {
        "id": "G-ao6aioqs46"
      },
      "source": [
        "The function `linspace()` is very useful. Try it changing the input parameters!\n",
        "\n",
        "**Import style:**\n",
        "\n",
        "You will often see code snippets that use the following lines\n",
        "```Python\n",
        "import numpy as np\n",
        "import matplotlib.pyplot as plt\n",
        "```\n",
        "What's all of this import-as business? It's a way of creating a 'shortcut' to the NumPy library and the pyplot module. You will see it frequently as it is in common usage, but we prefer to keep out imports explicit. We think it helps with code readability.\n",
        "\n",
        "**Pro tip:**\n",
        "\n",
        "Sometimes, you'll see people importing a whole library without assigning a shortcut for it (like `from numpy import *`). This saves typing but is sloppy and can get you in trouble. Best to get into good habits from the beginning!\n",
        "\n",
        "\n",
        "To learn new functions available to you, visit the [NumPy Reference](http://docs.scipy.org/doc/numpy/reference/) page. If you are a proficient `Matlab` user, there is a wiki page that should prove helpful to you: [NumPy for Matlab Users](http://wiki.scipy.org/NumPy_for_Matlab_Users)"
      ]
    },
    {
      "cell_type": "markdown",
      "metadata": {
        "id": "diCDrVAsqs46"
      },
      "source": [
        "## Variables"
      ]
    },
    {
      "cell_type": "markdown",
      "metadata": {
        "id": "w9rizEIzqs46"
      },
      "source": [
        "Python doesn't require explicitly declared variable types like C and other languages.  "
      ]
    },
    {
      "cell_type": "code",
      "metadata": {
        "id": "NbwB8YUlqs46"
      },
      "source": [
        "a = 5        #a is an integer 5\n",
        "b = 'five'   #b is a string of the word 'five'\n",
        "c = 5.0      #c is a floating point 5  "
      ],
      "execution_count": null,
      "outputs": []
    },
    {
      "cell_type": "code",
      "metadata": {
        "id": "7nKhAqBfqs47",
        "outputId": "8d2c329a-0441-4740-f171-608991a978da"
      },
      "source": [
        "type(a)"
      ],
      "execution_count": null,
      "outputs": [
        {
          "output_type": "execute_result",
          "data": {
            "text/plain": [
              "int"
            ]
          },
          "metadata": {
            "tags": []
          },
          "execution_count": 6
        }
      ]
    },
    {
      "cell_type": "code",
      "metadata": {
        "id": "1uKOQNayqs47",
        "outputId": "fb752973-eb27-4876-e859-97db3abd0f06"
      },
      "source": [
        "type(b)"
      ],
      "execution_count": null,
      "outputs": [
        {
          "output_type": "execute_result",
          "data": {
            "text/plain": [
              "str"
            ]
          },
          "metadata": {
            "tags": []
          },
          "execution_count": 7
        }
      ]
    },
    {
      "cell_type": "code",
      "metadata": {
        "id": "rfC7YTyPqs47",
        "outputId": "685c49a1-f2fe-4378-c0f9-71f4ace44268"
      },
      "source": [
        "type(c)"
      ],
      "execution_count": null,
      "outputs": [
        {
          "output_type": "execute_result",
          "data": {
            "text/plain": [
              "float"
            ]
          },
          "metadata": {
            "tags": []
          },
          "execution_count": 8
        }
      ]
    },
    {
      "cell_type": "markdown",
      "metadata": {
        "id": "jz0eSQZtqs47"
      },
      "source": [
        "Note that if you divide an integer by an integer that yields a remainder, the result will be converted to a float.  (This is *different* from the behavior in Python 2.7, beware!)"
      ]
    },
    {
      "cell_type": "markdown",
      "metadata": {
        "id": "KUzW6wwDqs48"
      },
      "source": [
        "## Whitespace in Python"
      ]
    },
    {
      "cell_type": "markdown",
      "metadata": {
        "id": "bPhTECAeqs48"
      },
      "source": [
        "Python uses indents and whitespace to group statements together.  To write a short loop in C, you might use:\n",
        "\n",
        "    for (i = 0, i < 5, i++){\n",
        "       printf(\"Hi! \\n\");\n",
        "    }"
      ]
    },
    {
      "cell_type": "markdown",
      "metadata": {
        "id": "_qsvoqz4qs48"
      },
      "source": [
        "Python does not use curly braces like C, so the same program as above is written in Python as follows:"
      ]
    },
    {
      "cell_type": "code",
      "metadata": {
        "id": "WWdLMwB3qs48",
        "outputId": "38a67f8e-fd7c-44a9-8bb5-8d3feba697a7"
      },
      "source": [
        "for i in range(5):\n",
        "    print(\"Hi \\n\")"
      ],
      "execution_count": null,
      "outputs": [
        {
          "output_type": "stream",
          "text": [
            "Hi \n",
            "\n",
            "Hi \n",
            "\n",
            "Hi \n",
            "\n",
            "Hi \n",
            "\n",
            "Hi \n",
            "\n"
          ],
          "name": "stdout"
        }
      ]
    },
    {
      "cell_type": "markdown",
      "metadata": {
        "id": "ag0PJFxLqs48"
      },
      "source": [
        "If you have nested for-loops, there is a further indent for the inner loop."
      ]
    },
    {
      "cell_type": "code",
      "metadata": {
        "id": "yLQx_lQLqs48",
        "outputId": "0a9eaffe-6aaf-4601-fae0-1a6f580f44e1"
      },
      "source": [
        "for i in range(3):\n",
        "    for j in range(3):\n",
        "        print(i, j)\n",
        "    \n",
        "    print(\"This statement is within the i-loop, but not the j-loop\")"
      ],
      "execution_count": null,
      "outputs": [
        {
          "output_type": "stream",
          "text": [
            "0 0\n",
            "0 1\n",
            "0 2\n",
            "This statement is within the i-loop, but not the j-loop\n",
            "1 0\n",
            "1 1\n",
            "1 2\n",
            "This statement is within the i-loop, but not the j-loop\n",
            "2 0\n",
            "2 1\n",
            "2 2\n",
            "This statement is within the i-loop, but not the j-loop\n"
          ],
          "name": "stdout"
        }
      ]
    },
    {
      "cell_type": "markdown",
      "metadata": {
        "id": "ylQLN-cIqs49"
      },
      "source": [
        "## Slicing Arrays"
      ]
    },
    {
      "cell_type": "markdown",
      "metadata": {
        "id": "s54kY7HQqs49"
      },
      "source": [
        "In NumPy, you can look at portions of arrays in the same way as in `Matlab`, with a few extra tricks thrown in.  Let's take an array of values from 1 to 5."
      ]
    },
    {
      "cell_type": "code",
      "metadata": {
        "id": "1mShxPcxqs49",
        "outputId": "eb2396d3-c41f-4848-dfde-f48281054d93"
      },
      "source": [
        "myvals = numpy.array([1, 2, 3, 4, 5])\n",
        "myvals"
      ],
      "execution_count": null,
      "outputs": [
        {
          "output_type": "execute_result",
          "data": {
            "text/plain": [
              "array([1, 2, 3, 4, 5])"
            ]
          },
          "metadata": {
            "tags": []
          },
          "execution_count": 11
        }
      ]
    },
    {
      "cell_type": "markdown",
      "metadata": {
        "id": "X40ZNOcOqs49"
      },
      "source": [
        "Python uses a **zero-based index**, so let's look at the first and last element in the array `myvals`"
      ]
    },
    {
      "cell_type": "code",
      "metadata": {
        "id": "bdLNtgqJqs49",
        "outputId": "bd725dd7-cb91-4f49-8144-6259f8312ca4"
      },
      "source": [
        "myvals[0], myvals[4]"
      ],
      "execution_count": null,
      "outputs": [
        {
          "output_type": "execute_result",
          "data": {
            "text/plain": [
              "(1, 5)"
            ]
          },
          "metadata": {
            "tags": []
          },
          "execution_count": 12
        }
      ]
    },
    {
      "cell_type": "markdown",
      "metadata": {
        "id": "qL_ZEUjIqs4-"
      },
      "source": [
        "There are 5 elements in the array `myvals`, but if we try to look at `myvals[5]`, Python will be unhappy, as `myvals[5]` is actually calling the non-existant 6th element of that array."
      ]
    },
    {
      "cell_type": "code",
      "metadata": {
        "id": "EBmp5lcRqs4-",
        "outputId": "ea7b4efa-e43d-4ebf-e872-8e5f75aaa03e"
      },
      "source": [
        "myvals[5]"
      ],
      "execution_count": null,
      "outputs": [
        {
          "output_type": "error",
          "ename": "IndexError",
          "evalue": "index 5 is out of bounds for axis 0 with size 5",
          "traceback": [
            "\u001b[1;31m---------------------------------------------------------------------------\u001b[0m",
            "\u001b[1;31mIndexError\u001b[0m                                Traceback (most recent call last)",
            "\u001b[1;32m<ipython-input-13-6cc4d3ae83cd>\u001b[0m in \u001b[0;36m<module>\u001b[1;34m()\u001b[0m\n\u001b[1;32m----> 1\u001b[1;33m \u001b[0mmyvals\u001b[0m\u001b[1;33m[\u001b[0m\u001b[1;36m5\u001b[0m\u001b[1;33m]\u001b[0m\u001b[1;33m\u001b[0m\u001b[0m\n\u001b[0m",
            "\u001b[1;31mIndexError\u001b[0m: index 5 is out of bounds for axis 0 with size 5"
          ]
        }
      ]
    },
    {
      "cell_type": "markdown",
      "metadata": {
        "id": "QNIETCRBqs4-"
      },
      "source": [
        "Arrays can also be 'sliced', grabbing a range of values.  Let's look at the first three elements"
      ]
    },
    {
      "cell_type": "code",
      "metadata": {
        "id": "zuaHBcOwqs4-",
        "outputId": "47367a0a-7e42-454f-bac0-a842e98b7667"
      },
      "source": [
        "myvals[0:3]"
      ],
      "execution_count": null,
      "outputs": [
        {
          "output_type": "execute_result",
          "data": {
            "text/plain": [
              "array([1, 2, 3])"
            ]
          },
          "metadata": {
            "tags": []
          },
          "execution_count": 14
        }
      ]
    },
    {
      "cell_type": "markdown",
      "metadata": {
        "id": "m9Pq203lqs4-"
      },
      "source": [
        "Note here, the slice is inclusive on the front end and exclusive on the back, so the above command gives us the values of `myvals[0]`, `myvals[1]` and `myvals[2]`, but not `myvals[3]`."
      ]
    },
    {
      "cell_type": "markdown",
      "metadata": {
        "id": "sEWeFxvsqs4-"
      },
      "source": [
        "## Assigning Array Variables"
      ]
    },
    {
      "cell_type": "markdown",
      "metadata": {
        "id": "Qw25V1aqqs4_"
      },
      "source": [
        "One of the strange little quirks/features in Python that often confuses people comes up when assigning and comparing arrays of values.  Here is a quick example.  Let's start by defining a 1-D array called $a$:"
      ]
    },
    {
      "cell_type": "code",
      "metadata": {
        "id": "c_udfM34qs4_"
      },
      "source": [
        "a = numpy.linspace(1,5,5)"
      ],
      "execution_count": null,
      "outputs": []
    },
    {
      "cell_type": "code",
      "metadata": {
        "id": "JOvxxFdsqs4_",
        "outputId": "28d97748-de53-466d-9f53-c87a397a1b1a"
      },
      "source": [
        "a"
      ],
      "execution_count": null,
      "outputs": [
        {
          "output_type": "execute_result",
          "data": {
            "text/plain": [
              "array([ 1.,  2.,  3.,  4.,  5.])"
            ]
          },
          "metadata": {
            "tags": []
          },
          "execution_count": 16
        }
      ]
    },
    {
      "cell_type": "markdown",
      "metadata": {
        "id": "8h9crDcIqs4_"
      },
      "source": [
        "OK, so we have an array $a$, with the values 1 through 5.  I want to make a copy of that array, called $b$, so I'll try the following:"
      ]
    },
    {
      "cell_type": "code",
      "metadata": {
        "id": "BVg2jdCmqs4_"
      },
      "source": [
        "b = a"
      ],
      "execution_count": null,
      "outputs": []
    },
    {
      "cell_type": "code",
      "metadata": {
        "id": "Ep0J5BWMqs4_",
        "outputId": "52cc8f6e-5c6f-4577-b9fa-b3ec8af5daa6"
      },
      "source": [
        "b"
      ],
      "execution_count": null,
      "outputs": [
        {
          "output_type": "execute_result",
          "data": {
            "text/plain": [
              "array([ 1.,  2.,  3.,  4.,  5.])"
            ]
          },
          "metadata": {
            "tags": []
          },
          "execution_count": 18
        }
      ]
    },
    {
      "cell_type": "markdown",
      "metadata": {
        "id": "R6yHxcbdqs5A"
      },
      "source": [
        "Great.  So $a$ has the values 1 through 5 and now so does $b$.  Now that I have a backup of $a$, I can change its values without worrying about losing data (or so I may think!)."
      ]
    },
    {
      "cell_type": "code",
      "metadata": {
        "id": "H2OqPmt0qs5A"
      },
      "source": [
        "a[2] = 17"
      ],
      "execution_count": null,
      "outputs": []
    },
    {
      "cell_type": "code",
      "metadata": {
        "id": "T8kTaX0pqs5A",
        "outputId": "5de95aea-86fa-467a-8f38-04522baaeb7b"
      },
      "source": [
        "a"
      ],
      "execution_count": null,
      "outputs": [
        {
          "output_type": "execute_result",
          "data": {
            "text/plain": [
              "array([  1.,   2.,  17.,   4.,   5.])"
            ]
          },
          "metadata": {
            "tags": []
          },
          "execution_count": 20
        }
      ]
    },
    {
      "cell_type": "markdown",
      "metadata": {
        "id": "v_GNW7V-qs5A"
      },
      "source": [
        "Here, the 3rd element of $a$ has been changed to 17.  Now let's check on $b$."
      ]
    },
    {
      "cell_type": "code",
      "metadata": {
        "id": "JxFX6W2Zqs5A",
        "outputId": "c0bc8cb5-aa08-43d4-c7ce-23ce2be5f4db"
      },
      "source": [
        "b"
      ],
      "execution_count": null,
      "outputs": [
        {
          "output_type": "execute_result",
          "data": {
            "text/plain": [
              "array([  1.,   2.,  17.,   4.,   5.])"
            ]
          },
          "metadata": {
            "tags": []
          },
          "execution_count": 21
        }
      ]
    },
    {
      "cell_type": "markdown",
      "metadata": {
        "id": "s5P0-139qs5A"
      },
      "source": [
        "And that's how things go wrong!  When you use a statement like $a = b$, rather than copying all the values of $a$ into a new array called $b$, Python just creates an alias (or a pointer) called $b$ and tells it to route us to $a$.  So if we change a value in $a$ then $b$ will reflect that change (technically, this is called *assignment by reference*).  If you want to make a true copy of the array, you have to tell Python to copy every element of $a$ into a new array.  Let's call it $c$.  "
      ]
    },
    {
      "cell_type": "code",
      "metadata": {
        "id": "4pa5MPjwqs5B"
      },
      "source": [
        "c = a.copy()"
      ],
      "execution_count": null,
      "outputs": []
    },
    {
      "cell_type": "markdown",
      "metadata": {
        "id": "g4GVVh6lqs5B"
      },
      "source": [
        "Now, we can try again to change a value in $a$ and see if the changes are also seen in $c$.  "
      ]
    },
    {
      "cell_type": "code",
      "metadata": {
        "id": "qkUmCltdqs5B"
      },
      "source": [
        "a[2] = 3"
      ],
      "execution_count": null,
      "outputs": []
    },
    {
      "cell_type": "code",
      "metadata": {
        "id": "fm1q037uqs5B",
        "outputId": "b9df550c-cfd5-4a9f-c15e-f68d53d23f19"
      },
      "source": [
        "a"
      ],
      "execution_count": null,
      "outputs": [
        {
          "output_type": "execute_result",
          "data": {
            "text/plain": [
              "array([ 1.,  2.,  3.,  4.,  5.])"
            ]
          },
          "metadata": {
            "tags": []
          },
          "execution_count": 24
        }
      ]
    },
    {
      "cell_type": "code",
      "metadata": {
        "id": "agYMRK3Lqs5B",
        "outputId": "038309ac-a809-48b0-c877-0157ceb231bc"
      },
      "source": [
        "c"
      ],
      "execution_count": null,
      "outputs": [
        {
          "output_type": "execute_result",
          "data": {
            "text/plain": [
              "array([  1.,   2.,  17.,   4.,   5.])"
            ]
          },
          "metadata": {
            "tags": []
          },
          "execution_count": 25
        }
      ]
    },
    {
      "cell_type": "markdown",
      "metadata": {
        "id": "QKzvvB2Yqs5C"
      },
      "source": [
        "OK, it worked!  If the difference between `a = b` and `a = b.copy()` is unclear, you should read through this again.  This issue will come back to haunt you otherwise."
      ]
    },
    {
      "cell_type": "markdown",
      "metadata": {
        "id": "NIZBtAOlqs5C"
      },
      "source": [
        "## Learn More"
      ]
    },
    {
      "cell_type": "markdown",
      "metadata": {
        "id": "8Jlr9L7jqs5C"
      },
      "source": [
        "There are a lot of resources online to learn more about using NumPy and other libraries. Just for kicks, here we use Jupyter's feature for embedding videos to point you to a short video on YouTube on using NumPy arrays."
      ]
    },
    {
      "cell_type": "code",
      "metadata": {
        "id": "dlSOJp1aqs5C",
        "outputId": "21484bbd-7e4f-4453-affe-9becb6776bbb"
      },
      "source": [
        "from IPython.display import YouTubeVideo\n",
        "# a short video about using NumPy arrays, from Enthought\n",
        "YouTubeVideo('vWkb7VahaXQ')"
      ],
      "execution_count": null,
      "outputs": [
        {
          "output_type": "execute_result",
          "data": {
            "text/html": [
              "\n",
              "        <iframe\n",
              "            width=\"400\"\n",
              "            height=\"300\"\n",
              "            src=\"https://www.youtube.com/embed/vWkb7VahaXQ\"\n",
              "            frameborder=\"0\"\n",
              "            allowfullscreen\n",
              "        ></iframe>\n",
              "        "
            ],
            "text/plain": [
              "<IPython.lib.display.YouTubeVideo at 0x7fc862618748>"
            ]
          },
          "metadata": {
            "tags": []
          },
          "execution_count": 26
        }
      ]
    },
    {
      "cell_type": "code",
      "metadata": {
        "id": "XP448ngGqs5C",
        "outputId": "f9d6d2a2-37d5-4153-b018-09624fb0fb82"
      },
      "source": [
        "from IPython.core.display import HTML\n",
        "def css_styling():\n",
        "    styles = open(\"../styles/custom.css\", \"r\").read()\n",
        "    return HTML(styles)\n",
        "css_styling()"
      ],
      "execution_count": null,
      "outputs": [
        {
          "output_type": "execute_result",
          "data": {
            "text/html": [
              "<link href='http://fonts.googleapis.com/css?family=Fenix' rel='stylesheet' type='text/css'>\n",
              "<link href='http://fonts.googleapis.com/css?family=Alegreya+Sans:100,300,400,500,700,800,900,100italic,300italic,400italic,500italic,700italic,800italic,900italic' rel='stylesheet' type='text/css'>\n",
              "<link href='http://fonts.googleapis.com/css?family=Source+Code+Pro:300,400' rel='stylesheet' type='text/css'>\n",
              "<style>\n",
              "    @font-face {\n",
              "        font-family: \"Computer Modern\";\n",
              "        src: url('http://mirrors.ctan.org/fonts/cm-unicode/fonts/otf/cmunss.otf');\n",
              "    }\n",
              "    div.cell{\n",
              "        width:800px;\n",
              "        margin-left:16% !important;\n",
              "        margin-right:auto;\n",
              "    }\n",
              "    h1 {\n",
              "        font-family: 'Alegreya Sans', sans-serif;\n",
              "    }\n",
              "    h2 {\n",
              "        font-family: 'Fenix', serif;\n",
              "    }\n",
              "    h3{\n",
              "\t\tfont-family: 'Fenix', serif;\n",
              "        margin-top:12px;\n",
              "        margin-bottom: 3px;\n",
              "       }\n",
              "\th4{\n",
              "\t\tfont-family: 'Fenix', serif;\n",
              "       }\n",
              "    h5 {\n",
              "        font-family: 'Alegreya Sans', sans-serif;\n",
              "    }\t   \n",
              "    div.text_cell_render{\n",
              "        font-family: 'Alegreya Sans',Computer Modern, \"Helvetica Neue\", Arial, Helvetica, Geneva, sans-serif;\n",
              "        line-height: 135%;\n",
              "        font-size: 120%;\n",
              "        width:600px;\n",
              "        margin-left:auto;\n",
              "        margin-right:auto;\n",
              "    }\n",
              "    .CodeMirror{\n",
              "            font-family: \"Source Code Pro\";\n",
              "\t\t\tfont-size: 90%;\n",
              "    }\n",
              "/*    .prompt{\n",
              "        display: None;\n",
              "    }*/\n",
              "    .text_cell_render h1 {\n",
              "        font-weight: 200;\n",
              "        font-size: 50pt;\n",
              "\t\tline-height: 100%;\n",
              "        color:#CD2305;\n",
              "        margin-bottom: 0.5em;\n",
              "        margin-top: 0.5em;\n",
              "        display: block;\n",
              "    }\t\n",
              "    .text_cell_render h5 {\n",
              "        font-weight: 300;\n",
              "        font-size: 16pt;\n",
              "        color: #CD2305;\n",
              "        font-style: italic;\n",
              "        margin-bottom: .5em;\n",
              "        margin-top: 0.5em;\n",
              "        display: block;\n",
              "    }\n",
              "    \n",
              "    .warning{\n",
              "        color: rgb( 240, 20, 20 )\n",
              "        }  \n",
              "</style>\n",
              "<script>\n",
              "    MathJax.Hub.Config({\n",
              "                        TeX: {\n",
              "                           extensions: [\"AMSmath.js\"]\n",
              "                           },\n",
              "                tex2jax: {\n",
              "                    inlineMath: [ ['$','$'], [\"\\\\(\",\"\\\\)\"] ],\n",
              "                    displayMath: [ ['$$','$$'], [\"\\\\[\",\"\\\\]\"] ]\n",
              "                },\n",
              "                displayAlign: 'center', // Change this to 'center' to center equations.\n",
              "                \"HTML-CSS\": {\n",
              "                    styles: {'.MathJax_Display': {\"margin\": 4}}\n",
              "                }\n",
              "        });\n",
              "</script>\n"
            ],
            "text/plain": [
              "<IPython.core.display.HTML object>"
            ]
          },
          "metadata": {
            "tags": []
          },
          "execution_count": 27
        }
      ]
    }
  ]
}